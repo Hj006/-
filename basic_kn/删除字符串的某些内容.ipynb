{
 "cells": [
  {
   "cell_type": "markdown",
   "metadata": {},
   "source": [
    "输入 一个字符串 删除其中的某些字符"
   ]
  },
  {
   "cell_type": "markdown",
   "metadata": {},
   "source": [
    "h啊t啊t啊ps://ni啊celee啊.top/B啊i啊libi啊liDo啊wn/"
   ]
  },
  {
   "cell_type": "markdown",
   "metadata": {},
   "source": [
    "使用 正则表达式"
   ]
  },
  {
   "cell_type": "code",
   "execution_count": 1,
   "metadata": {},
   "outputs": [
    {
     "name": "stdout",
     "output_type": "stream",
     "text": [
      "处理后的字符串: https://nicelee.top/BilibiliDown/\n"
     ]
    }
   ],
   "source": [
    "import re\n",
    "\n",
    "def remove_characters_regex(string, chars_to_remove):\n",
    "    # 创建一个正则表达式模式，匹配 chars_to_remove 中的任意字符\n",
    "    pattern = f\"[{re.escape(chars_to_remove)}]\"\n",
    "    return re.sub(pattern, \"\", string)\n",
    "\n",
    "# 示例使用\n",
    "if __name__ == \"__main__\":\n",
    "    input_string = input(\"请输入一个字符串: \")\n",
    "    chars_to_remove = input(\"请输入要删除的字符（多个字符用连续输入即可）: \")\n",
    "    result = remove_characters_regex(input_string, chars_to_remove)\n",
    "    print(f\"处理后的字符串: {result}\")"
   ]
  },
  {
   "cell_type": "markdown",
   "metadata": {},
   "source": [
    "使用 生成式\n"
   ]
  },
  {
   "cell_type": "code",
   "execution_count": null,
   "metadata": {},
   "outputs": [],
   "source": [
    "def remove_characters(string, chars_to_remove):\n",
    "    \"\"\"\n",
    "    删除字符串中指定的字符。\n",
    "\n",
    "    :param string: 原始字符串\n",
    "    :param chars_to_remove: 要删除的字符组成的字符串\n",
    "    :return: 删除指定字符后的字符串\n",
    "    \"\"\"\n",
    "    # 创建一个过滤器，移除 chars_to_remove 中的字符\n",
    "    filtered_string = ''.join(char for char in string if char not in chars_to_remove)\n",
    "    return filtered_string\n",
    "\n",
    "\n",
    "input_string = \"字符串: \"\n",
    "chars_to_remove = \"要删除的字符，多个字符用连续 \"\n",
    "result = remove_characters(input_string, chars_to_remove)\n",
    "print(f\"处理后的字符串: {result}\")\n"
   ]
  },
  {
   "cell_type": "markdown",
   "metadata": {},
   "source": [
    "使用 str.translate 方法\n",
    "\n",
    "利用 str.translate 和 str.maketrans 构造转换表，将字符映射为 None。"
   ]
  },
  {
   "cell_type": "code",
   "execution_count": null,
   "metadata": {},
   "outputs": [],
   "source": [
    "def remove_characters_translate(string, chars_to_remove):\n",
    "    # 创建一个转换表，将 chars_to_remove 中的字符映射为 None\n",
    "    translation_table = str.maketrans(\"\", \"\", chars_to_remove)\n",
    "    return string.translate(translation_table)\n",
    "\n",
    "input_string = \"字符串: \"\n",
    "chars_to_remove = \"要删除的字符，多个字符用连续 \"\n",
    "result = remove_characters_translate(input_string, chars_to_remove)\n",
    "print(f\"处理后的字符串: {result}\")"
   ]
  },
  {
   "cell_type": "markdown",
   "metadata": {},
   "source": [
    " 使用集合优化字符判断\n",
    " \n",
    "利用集合提高字符匹配效率，尤其适用于较大的字符集。"
   ]
  },
  {
   "cell_type": "code",
   "execution_count": null,
   "metadata": {},
   "outputs": [],
   "source": [
    "def remove_characters_set(string, chars_to_remove):\n",
    "    # 将要删除的字符转换为集合以加快查找速度\n",
    "    chars_to_remove_set = set(chars_to_remove)\n",
    "    return ''.join(char for char in string if char not in chars_to_remove_set)\n",
    "\n",
    "input_string = \"字符串: \"\n",
    "chars_to_remove = \"要删除的字符，多个字符用连续 \"\n",
    "result = remove_characters_set(input_string, chars_to_remove)\n",
    "print(f\"处理后的字符串: {result}\")"
   ]
  }
 ],
 "metadata": {
  "kernelspec": {
   "display_name": "pytorch",
   "language": "python",
   "name": "python3"
  },
  "language_info": {
   "codemirror_mode": {
    "name": "ipython",
    "version": 3
   },
   "file_extension": ".py",
   "mimetype": "text/x-python",
   "name": "python",
   "nbconvert_exporter": "python",
   "pygments_lexer": "ipython3",
   "version": "3.9.16"
  }
 },
 "nbformat": 4,
 "nbformat_minor": 2
}
